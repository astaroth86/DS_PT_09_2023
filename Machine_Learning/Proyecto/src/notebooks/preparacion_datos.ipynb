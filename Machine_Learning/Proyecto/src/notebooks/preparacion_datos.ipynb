{
 "cells": [
  {
   "cell_type": "code",
   "execution_count": 32,
   "metadata": {},
   "outputs": [],
   "source": [
    "import pandas as pd\n",
    "import numpy as np\n",
    "\n",
    "from sklearn.model_selection import train_test_split"
   ]
  },
  {
   "cell_type": "code",
   "execution_count": 33,
   "metadata": {},
   "outputs": [],
   "source": [
    "df = pd.read_csv(\"../data/raw/coches.csv\")"
   ]
  },
  {
   "cell_type": "code",
   "execution_count": 34,
   "metadata": {},
   "outputs": [
    {
     "data": {
      "text/plain": [
       "17397"
      ]
     },
     "execution_count": 34,
     "metadata": {},
     "output_type": "execute_result"
    }
   ],
   "source": [
    "len(df['version'].unique())"
   ]
  },
  {
   "cell_type": "code",
   "execution_count": 35,
   "metadata": {},
   "outputs": [],
   "source": [
    "deleted = df.drop(['price_financed', 'url', 'company', \"country\", \"dealer\", \"photos\", \"province\", \"publish_date\", \"insert_date\"],  axis=1)"
   ]
  },
  {
   "cell_type": "code",
   "execution_count": 36,
   "metadata": {},
   "outputs": [],
   "source": [
    "deleted['make'] = deleted['make'].replace('IVECO-PEGASO', 'IVECO')"
   ]
  },
  {
   "cell_type": "code",
   "execution_count": 37,
   "metadata": {},
   "outputs": [
    {
     "data": {
      "text/plain": [
       "array(['SEAT', 'CITROEN', 'FORD', 'VOLKSWAGEN', 'PEUGEOT', 'LAND-ROVER',\n",
       "       'HONDA', 'NISSAN', 'MERCEDES-BENZ', 'FIAT', 'SKODA', 'BMW',\n",
       "       'MAZDA', 'OPEL', 'AUDI', 'VOLVO', 'MITSUBISHI', 'RENAULT', 'KIA',\n",
       "       'DACIA', 'HYUNDAI', 'JEEP', 'SUZUKI', 'CHEVROLET', 'SSANGYONG',\n",
       "       'ABARTH', 'SMART', 'JAGUAR', 'TOYOTA', 'PORSCHE', 'SAAB', 'MINI',\n",
       "       'CHRYSLER', 'MG', 'IVECO', 'DS', 'CADILLAC', 'INFINITI',\n",
       "       'ASTON MARTIN', 'ALFA ROMEO', 'LEXUS', 'DODGE', 'TESLA',\n",
       "       'DR AUTOMOBILES', 'LANCIA', 'SUBARU', 'DAEWOO', 'BENTLEY',\n",
       "       'MASERATI', 'GALLOPER', 'ISUZU', 'ROVER', 'CUPRA', 'VAZ', 'DFSK',\n",
       "       nan, 'PONTIAC', 'FERRARI', 'MAHINDRA', 'TATA', 'CORVETTE',\n",
       "       'ALPINE', 'LAMBORGHINI', 'LOTUS', 'HUMMER', 'SANTANA', 'LADA',\n",
       "       'DAIHATSU', 'UMM', 'AUSTIN', 'MAXUS', 'MORGAN', 'ARO', 'PIAGGIO',\n",
       "       'LDV'], dtype=object)"
      ]
     },
     "execution_count": 37,
     "metadata": {},
     "output_type": "execute_result"
    }
   ],
   "source": [
    "deleted['make'].unique()"
   ]
  },
  {
   "cell_type": "code",
   "execution_count": 38,
   "metadata": {},
   "outputs": [],
   "source": [
    "from scipy import stats\n",
    "\n",
    "# Detección por Puntuación Z\n",
    "precios = deleted[\"price\"]\n",
    "zscores = np.abs(stats.zscore(precios))\n",
    "outliers_z = np.where(zscores > 3)[0]\n",
    "\n",
    "# Elimina outliers por Puntuación Z\n",
    "deleted = deleted.drop(deleted.index[outliers_z])"
   ]
  },
  {
   "cell_type": "code",
   "execution_count": 39,
   "metadata": {},
   "outputs": [],
   "source": [
    "# Detección por Puntuación Z\n",
    "kiloemtros = deleted[\"kms\"]\n",
    "zscores = np.abs(stats.zscore(kiloemtros))\n",
    "outliers_z = np.where(zscores > 3)[0]\n",
    "\n",
    "# Elimina outliers por Puntuación Z\n",
    "deleted = deleted.drop(deleted.index[outliers_z])"
   ]
  },
  {
   "cell_type": "code",
   "execution_count": 40,
   "metadata": {},
   "outputs": [],
   "source": [
    "# Detección por Puntuación Z\n",
    "potencia = deleted[\"power\"]\n",
    "zscores = np.abs(stats.zscore(potencia))\n",
    "outliers_z = np.where(zscores > 3)[0]\n",
    "\n",
    "# Elimina outliers por Puntuación Z\n",
    "deleted = deleted.drop(deleted.index[outliers_z])"
   ]
  },
  {
   "cell_type": "code",
   "execution_count": 41,
   "metadata": {},
   "outputs": [],
   "source": [
    "deleted = deleted.dropna(subset=[\"year\", \"make\", \"model\", \"fuel\", \"shift\", \"power\"])\n",
    "deleted['color'].fillna('Blanco', inplace=True)"
   ]
  },
  {
   "cell_type": "code",
   "execution_count": 42,
   "metadata": {},
   "outputs": [],
   "source": [
    "deleted['price'] = np.log(deleted['price']+1)\n",
    "deleted['power'] = np.log(deleted['power']+1)\n",
    "deleted['kms'] = np.log(deleted['kms']+1)"
   ]
  },
  {
   "cell_type": "code",
   "execution_count": 43,
   "metadata": {},
   "outputs": [],
   "source": [
    "train, test = train_test_split(deleted, test_size=0.2, random_state=42)"
   ]
  },
  {
   "cell_type": "code",
   "execution_count": 44,
   "metadata": {},
   "outputs": [],
   "source": [
    "train.to_csv(\"../data/processed/train.csv\")"
   ]
  },
  {
   "cell_type": "code",
   "execution_count": 45,
   "metadata": {},
   "outputs": [],
   "source": [
    "test.to_csv(\"../data/processed/test.csv\")"
   ]
  },
  {
   "cell_type": "code",
   "execution_count": 46,
   "metadata": {},
   "outputs": [
    {
     "name": "stdout",
     "output_type": "stream",
     "text": [
      "<class 'pandas.core.frame.DataFrame'>\n",
      "Index: 40595 entries, 1 to 49999\n",
      "Data columns (total 12 columns):\n",
      " #   Column           Non-Null Count  Dtype  \n",
      "---  ------           --------------  -----  \n",
      " 0   make             40595 non-null  object \n",
      " 1   model            40595 non-null  object \n",
      " 2   version          40595 non-null  object \n",
      " 3   price            40595 non-null  float64\n",
      " 4   fuel             40595 non-null  object \n",
      " 5   year             40595 non-null  float64\n",
      " 6   kms              40595 non-null  float64\n",
      " 7   power            40595 non-null  float64\n",
      " 8   doors            40595 non-null  int64  \n",
      " 9   shift            40595 non-null  object \n",
      " 10  color            40595 non-null  object \n",
      " 11  is_professional  40595 non-null  bool   \n",
      "dtypes: bool(1), float64(4), int64(1), object(6)\n",
      "memory usage: 3.8+ MB\n"
     ]
    }
   ],
   "source": [
    "deleted.info()"
   ]
  }
 ],
 "metadata": {
  "kernelspec": {
   "display_name": ".venv",
   "language": "python",
   "name": "python3"
  },
  "language_info": {
   "codemirror_mode": {
    "name": "ipython",
    "version": 3
   },
   "file_extension": ".py",
   "mimetype": "text/x-python",
   "name": "python",
   "nbconvert_exporter": "python",
   "pygments_lexer": "ipython3",
   "version": "3.10.5"
  }
 },
 "nbformat": 4,
 "nbformat_minor": 2
}
