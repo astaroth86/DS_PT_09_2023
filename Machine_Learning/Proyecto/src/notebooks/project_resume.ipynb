{
 "cells": [
  {
   "cell_type": "code",
   "execution_count": 1,
   "metadata": {},
   "outputs": [],
   "source": [
    "import pandas as pd\n",
    "import numpy as np\n",
    "import pickle\n",
    "\n",
    "from sklearn.metrics import mean_absolute_error, mean_absolute_percentage_error, mean_squared_error, r2_score"
   ]
  },
  {
   "cell_type": "code",
   "execution_count": 2,
   "metadata": {},
   "outputs": [],
   "source": [
    "def cargar_modelo(test:pd.DataFrame):\n",
    "    X_test = test.drop(columns=[\"price\"])\n",
    "    X_test = X_test.drop('Unnamed: 0.1', axis=1)\n",
    "    \n",
    "    y_test = test[[\"price\"]]\n",
    "\n",
    "    with open('model/extra_tree_model.pkl', 'rb') as f:\n",
    "\n",
    "        modelo = pickle.load(f)\n",
    "        y_pred_train_etr = modelo.predict(X_test)\n",
    "        print(\"Extra tree\")\n",
    "        print(\"Coeficiente determinación\", r2_score(y_test, y_pred_train_etr))\n",
    "        print(\"MAE\", mean_absolute_error(y_test, y_pred_train_etr))\n",
    "        print(\"MAPE\", mean_absolute_percentage_error(y_test, y_pred_train_etr))\n",
    "        print(\"MSE\", mean_squared_error(y_test, y_pred_train_etr))\n",
    "        print(\"RMSE\", np.sqrt(mean_squared_error(y_test, y_pred_train_etr)))"
   ]
  },
  {
   "cell_type": "code",
   "execution_count": null,
   "metadata": {},
   "outputs": [],
   "source": [
    "train = pd.read_csv(\"data/processed/train.csv\")\n",
    "test = pd.read_csv(\"data/processed/test.csv\")"
   ]
  },
  {
   "cell_type": "code",
   "execution_count": null,
   "metadata": {},
   "outputs": [],
   "source": [
    "entrenar_modelo(train, test)"
   ]
  },
  {
   "cell_type": "code",
   "execution_count": null,
   "metadata": {},
   "outputs": [],
   "source": [
    "cargar_modelo(pd.read_csv(\"data/processed/test_prepared.csv\"))"
   ]
  }
 ],
 "metadata": {
  "kernelspec": {
   "display_name": ".venv",
   "language": "python",
   "name": "python3"
  },
  "language_info": {
   "codemirror_mode": {
    "name": "ipython",
    "version": 3
   },
   "file_extension": ".py",
   "mimetype": "text/x-python",
   "name": "python",
   "nbconvert_exporter": "python",
   "pygments_lexer": "ipython3",
   "version": "3.11.5"
  }
 },
 "nbformat": 4,
 "nbformat_minor": 2
}
